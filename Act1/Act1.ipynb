{
 "cells": [
  {
   "cell_type": "markdown",
   "metadata": {},
   "source": [
    "# ACTIVIDAD"
   ]
  },
  {
   "cell_type": "code",
   "execution_count": null,
   "metadata": {},
   "outputs": [
    {
     "name": "stdout",
     "output_type": "stream",
     "text": [
      "Requirement already satisfied: opencv-python in c:\\users\\jenny\\appdata\\local\\packages\\pythonsoftwarefoundation.python.3.11_qbz5n2kfra8p0\\localcache\\local-packages\\python311\\site-packages (4.9.0.80)Note: you may need to restart the kernel to use updated packages.\n",
      "\n",
      "Requirement already satisfied: numpy>=1.21.2 in c:\\users\\jenny\\appdata\\local\\packages\\pythonsoftwarefoundation.python.3.11_qbz5n2kfra8p0\\localcache\\local-packages\\python311\\site-packages (from opencv-python) (1.26.4)\n"
     ]
    }
   ],
   "source": [
    "#pip install opencv-python"
   ]
  },
  {
   "cell_type": "code",
   "execution_count": 1,
   "metadata": {},
   "outputs": [],
   "source": [
    "# Video normal\n",
    "\n",
    "import cv2\n",
    "\n",
    "cap1 = cv2.VideoCapture(0) # Abre camara\n",
    "\n",
    "width1 = int(cap1.get(cv2.CAP_PROP_FRAME_WIDTH))\n",
    "height1 = int(cap1.get(cv2.CAP_PROP_FRAME_HEIGHT))\n",
    "writer1 = cv2.VideoWriter('act1_normal.mp4', cv2.VideoWriter_fourcc(*'mp4v'), 40, (width1,height1))\n",
    "\n",
    "while True:\n",
    "    ret, frame = cap1.read()\n",
    "    if cv2.waitKey(1) & 0xFF == ord('q'): # 1seg y q cierra video\n",
    "        break\n",
    "    writer1.write(frame)\n",
    "    cv2.imshow('frame', frame)\n",
    "cap1.release()\n",
    "writer1.release()\n",
    "cv2.destroyAllWindows()"
   ]
  },
  {
   "cell_type": "code",
   "execution_count": 2,
   "metadata": {},
   "outputs": [],
   "source": [
    "# Video reversa\n",
    "\n",
    "import cv2\n",
    "\n",
    "\n",
    "cap2 = cv2.VideoCapture(\"act1_normal.mp4\")\n",
    "check, vid= cap2.read()\n",
    "frame_list=[]\n",
    "\n",
    "width2 = int(cap2.get(cv2.CAP_PROP_FRAME_WIDTH))\n",
    "height2 = int(cap2.get(cv2.CAP_PROP_FRAME_HEIGHT))\n",
    "writer2 = cv2.VideoWriter('act1_reversed.mp4', cv2.VideoWriter_fourcc(*'mp4v'), 40, (width2,height2))\n",
    "\n",
    "\n",
    "while (check==True):\n",
    "    check, vid= cap2.read()\n",
    "    frame_list.append(vid)\n",
    "frame_list.pop()\n",
    "frame_list.reverse()\n",
    "\n",
    "for frame in frame_list:\n",
    "    if cv2.waitKey(1) & 0xFF==ord('q'):\n",
    "        break\n",
    "    writer2.write(frame)\n",
    "\n",
    "cap2.release()\n",
    "writer2.release()\n",
    "cv2.destroyAllWindows()"
   ]
  },
  {
   "cell_type": "code",
   "execution_count": 3,
   "metadata": {},
   "outputs": [],
   "source": [
    "# Video final\n",
    "\n",
    "cap1 = cv2.VideoCapture(\"act1_normal.mp4\")\n",
    "check1, vid1= cap1.read()\n",
    "final=[]\n",
    "\n",
    "width3 = int(cap1.get(cv2.CAP_PROP_FRAME_WIDTH))\n",
    "height3 = int(cap1.get(cv2.CAP_PROP_FRAME_HEIGHT))\n",
    "writer3 = cv2.VideoWriter('act1_final.mp4', cv2.VideoWriter_fourcc(*'mp4v'), 40, (width3,height3))\n",
    "\n",
    "while (check1==True):\n",
    "    check1, vid1= cap1.read()\n",
    "    final.append(vid1)\n",
    "\n",
    "cap2 = cv2.VideoCapture(\"act1_reversed.mp4\")\n",
    "check2, vid2= cap2.read()\n",
    "\n",
    "while (check2==True):\n",
    "    check2, vid2= cap2.read()\n",
    "    final.append(vid2)\n",
    "\n",
    "for frame in final:\n",
    "    if cv2.waitKey(1) & 0xFF==ord('q'):\n",
    "        break\n",
    "    writer3.write(frame)\n",
    "\n",
    "cap1.release()\n",
    "cap2.release()\n",
    "writer3.release()\n",
    "cv2.destroyAllWindows()"
   ]
  }
 ],
 "metadata": {
  "kernelspec": {
   "display_name": "Python 3",
   "language": "python",
   "name": "python3"
  },
  "language_info": {
   "codemirror_mode": {
    "name": "ipython",
    "version": 3
   },
   "file_extension": ".py",
   "mimetype": "text/x-python",
   "name": "python",
   "nbconvert_exporter": "python",
   "pygments_lexer": "ipython3",
   "version": "3.11.9"
  }
 },
 "nbformat": 4,
 "nbformat_minor": 2
}
